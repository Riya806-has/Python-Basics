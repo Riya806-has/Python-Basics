{
  "nbformat": 4,
  "nbformat_minor": 0,
  "metadata": {
    "colab": {
      "provenance": []
    },
    "kernelspec": {
      "name": "python3",
      "display_name": "Python 3"
    },
    "language_info": {
      "name": "python"
    }
  },
  "cells": [
    {
      "cell_type": "markdown",
      "source": [
        "#Python Basics Questions\n"
      ],
      "metadata": {
        "id": "f9Z7xnNEEgIh"
      }
    },
    {
      "cell_type": "markdown",
      "source": [
        "1. What is Python, and why is it popular?\n",
        "    - Python is a high-level, interpreted programming language known for its simplicity, readability, and versatility. It was created by Guido van Rossum and first released in 1991.\n",
        "     * Why Python Is Popular:\n",
        "       1. Easy to Learn and Use\n",
        "       2. Versatile and Multi-Paradigm\n",
        "       3.  Extensive Libraries and Frameworks\n",
        "       4. Large Community and Ecosystem\n",
        "       5. Cross-Platform Compatibility\n",
        "       6. Popular in Key Industries\n",
        "2. What is an interpreter in Python?\n",
        "    - An interpreter in Python is a program that reads and executes Python code line by line. Instead of converting the whole program into machine code at once, the interpretor translates and runs one line at a time.\n",
        "     * Key Points:\n",
        "       1. Execution Line by Line\n",
        "       2. No Need for Compilation\n",
        "       3. Interactive Mode\n",
        "       4. Platform Independence\n",
        "3. What are pre-defined keywords in Python?\n",
        "    - Pre-defined keywords in Python are reserved words that have special meaning to the Python interpreter. These words are part of the language syntax and cannot be used as variable names, function names, or identifiers.\n",
        "      * Examples of Python Keywords:\n",
        "       1. if, else, elif - Conditional statements\n",
        "       2. for, while, break, continue - Loops and control flow\n",
        "       3. def, return, lamda - Functions\n",
        "       4. True, False, None - Special constrants\n",
        "       5. class, try, except, finally, raise - Classes and exception handling\n",
        "       6. import, from, as - Modules and importing\n",
        "4. Can keywords be used as variable names?\n",
        "    - No, keywords cannot be used as variable names in most programming languages because they are reserved to perform specific functions in the code.\n",
        "5. What is mutability in Python?\n",
        "    - Mutability in Python refers to whether or not an object's state (it's data/content) can be changed after it is created. These can be changed in place without changing their identity.\n",
        "     * Examples:\n",
        "       1. list\n",
        "       2. dict\n",
        "       3. set\n",
        "6. Why are lists mutable, but tuples are immutable?\n",
        "    - In Python, the difference in mutability between lists and tuples comes down to design choice and intended use:\n",
        "        * Why Lists Are Mutable\n",
        "         1. Purpose: Lists are mean to store collections of items that may change - like adding, removing, or updating elements.\n",
        "         2. Implementation: Lists internally use a dynamic array structure, allowing in-place updates without needing to recreate the whole object.\n",
        "         3. Flexibility: Lists support operations like .append(), .remove(),\n",
        "          .sort(), etc., which modify the object.\n",
        "  *  Why Tuples Are Immutable\n",
        "              1. Purpose: Tuples are designed to represent fixed collection of items - like coordinates, dates, or constant settings.\n",
        "              2. Hashability: Being immutable allows tuples to be used as dictionary keys or elements in sets.\n",
        "              3. Safety: Prevents accidental modification of data that should remain constant.\n",
        "7. What is the difference between \"==\" and \"is\" operators in Python?\n",
        "   - The difference between the == and is operators in Python lies in what they compare. The == operator compares the values of two objects for equality, while the is operator checks if two variables refer to the same object in memory.\n",
        "       * == (Equality Operator):\n",
        "      >  It returns True if the values of the operands are equal. It checks for value equality.\n",
        "       * is (Identity Operator):\n",
        "   > It returns True if the operands refer to the same object. It checks for reference equality.\n",
        "8. What are logical Operators in Python?\n",
        "    - In Python, logical operators are used to combine conditional statements. They return boolean values (True or False) based on the logic of the expressions.\n",
        "     * Python's 3 Logical Operators:\n",
        "        1.  and: Returns True if both operands are True, otherwise it returns False.\n",
        "        2. or: Returns True if at least one of the operands is True, and False only if both are False.\n",
        "        3. not: Returns the opposite boolean value of the operand. If the operand is True, it returns False, and vice versa.  \n",
        "9. What is type casting in Python?\n",
        "    - Type casting in Python, also known as type conversion, refers to the process of changing the data type of a variable from one type to another. This is often necessary to perform operations that require specific data types or to ensure compatibility between different parts of a program.\n",
        "10. What is the difference between implicit and explicit type casting?\n",
        "     -  The difference between implicit and explicit type casting are follows:\n",
        "       * Implicit type casting: This occurs automatically by the Python interpreter when performing certain operations. It usually happens when converting from a smaller data type to a larger data type to prevent data loss. For example, when adding an integer to a float, Python implicitly converts the integer to a float before performing the addition.\n",
        "       *  Explicit type casting: This is done manually by the programmer using built-in functions. It is used when you need to convert a value to a specific data type, even if it might result in data loss or errors. For instance, converting a float to an integer or a string to an integer.\n",
        "11. What is the purpose of conditional statements in Python?\n",
        "     - Conditional statements in Python enable programs to execute different code blocks based on whether specific conditions are met. They are fundamental for creating dynamic and responsive programs that can adapt to varying situations and inputs. The primary purpose of conditional statements is to control the flow of execution in a program, allowing it to make decisions and perform actions accordingly.\n",
        "12. How does the elif statement work?\n",
        "     - The “elif” keyword in Python, stands for “else if”. It can be used in conditional statements to check for multiple conditions.\n",
        "      *  For example, if the first condition is false, it moves on to the next “elif” statement to check if that condition is true.\n",
        "13. What is the difference between for and while loops?\n",
        "     -  The primary difference between a for loop and a while loop lies in how they control the iteration process. A for loop is typically used when the number of iterations is known beforehand, and it iterates over a sequence or range. A while loop, repeats a block of code until a condition becomes false, making it suitable when the number of iterations is not predetermined.\n",
        "     *  Here's a more detailed breakdown:\n",
        "         *  For Loop:\n",
        "            1. Iterates over a sequence:\n",
        "             for loops are commonly used to iterate over collections like lists, strings, or ranges of numbers.\n",
        "          2. Known number of iterations:\n",
        "The number of times the loop will execute is typically defined at the beginning of the loop.\n",
        "          3. Example:\n",
        "for i in range(5): print(i) will print numbers from 0 to 4, a fixed number of times.      \n",
        "         * While Loop:\n",
        "            1. Condition-based iteration: while loops repeat as long as a condition remains true.\n",
        "            2. Unknown number of iterations: The number of iterations is not fixed and depends on the condition.\n",
        "            3. Example: count = 0; [30]while count < 5: print(count); [31, 32, 33]count += 1 will print numbers from 0 to 4 until count is no longer less than 5.\n",
        "            4. Potential for infinite loops: If the condition in a while loop is never met or becomes permanently true, the loop can run indefinitely, leading to an \"infinite loop\".\n",
        "14. Describe a scenario where a while loop is more suitable than a for loop.\n",
        "     - A while loop is more suitable than a for loop in scenarios where the number of iterations is not known in advance and depends on a condition that changes dynamically during execution.         "
      ],
      "metadata": {
        "id": "_ZUe3ngmFLF3"
      }
    },
    {
      "cell_type": "code",
      "source": [
        "# Example Scenerio: waiting for a Sensor to Reach a Threshold\n",
        "temperature = 100\n",
        "while temperature> 75:\n",
        "    print(f\"Current temperature: {temperature}\")\n",
        "    temperature = 5\n",
        "print(\"Temperature is now safe.\")"
      ],
      "metadata": {
        "colab": {
          "base_uri": "https://localhost:8080/"
        },
        "id": "cvjBsD7ywwT4",
        "outputId": "d42f6dcf-bb4e-480e-dd49-77f7bcdcc6ea"
      },
      "execution_count": 9,
      "outputs": [
        {
          "output_type": "stream",
          "name": "stdout",
          "text": [
            "Current temperature: 100\n",
            "Temperature is now safe.\n"
          ]
        }
      ]
    },
    {
      "cell_type": "markdown",
      "source": [
        "# Practical Questions"
      ],
      "metadata": {
        "id": "XN40HwyZxxZi"
      }
    },
    {
      "cell_type": "code",
      "source": [
        "# Write a Python program o print \"Hello, World!\"\n",
        "print(\"Hello, World!\")"
      ],
      "metadata": {
        "colab": {
          "base_uri": "https://localhost:8080/"
        },
        "id": "7ECDgodxyuS4",
        "outputId": "efc2ef09-a09d-4097-a284-141532b75fe6"
      },
      "execution_count": 10,
      "outputs": [
        {
          "output_type": "stream",
          "name": "stdout",
          "text": [
            "Hello, World!\n"
          ]
        }
      ]
    },
    {
      "cell_type": "code",
      "source": [
        "# Write a Python program that displays your name and age.\n",
        "name = \"ANU\"\n",
        "age = 18\n",
        "print(\"My name is\", name)\n",
        "print(\"I am\", age, \"years old\")"
      ],
      "metadata": {
        "colab": {
          "base_uri": "https://localhost:8080/"
        },
        "id": "TmolcreRzGHd",
        "outputId": "ba2cfb25-9003-45e7-f6d5-88f2be24bf18"
      },
      "execution_count": 11,
      "outputs": [
        {
          "output_type": "stream",
          "name": "stdout",
          "text": [
            "My name is ANU\n",
            "I am 18 years old\n"
          ]
        }
      ]
    },
    {
      "cell_type": "code",
      "source": [
        "# write a code to print all the pre-defined keywords in Python using the keyboard library.\n",
        "import keyword\n",
        "\n",
        "print(\"Python keywords:\")\n",
        "print(keyword.kwlist)"
      ],
      "metadata": {
        "colab": {
          "base_uri": "https://localhost:8080/"
        },
        "id": "kqQ-Qt3c0o9G",
        "outputId": "ffbc7d01-464a-46f0-8838-b79cb1766885"
      },
      "execution_count": 12,
      "outputs": [
        {
          "output_type": "stream",
          "name": "stdout",
          "text": [
            "Python keywords:\n",
            "['False', 'None', 'True', 'and', 'as', 'assert', 'async', 'await', 'break', 'class', 'continue', 'def', 'del', 'elif', 'else', 'except', 'finally', 'for', 'from', 'global', 'if', 'import', 'in', 'is', 'lambda', 'nonlocal', 'not', 'or', 'pass', 'raise', 'return', 'try', 'while', 'with', 'yield']\n"
          ]
        }
      ]
    },
    {
      "cell_type": "code",
      "source": [
        "# Write a program that checks if a given word is a Python keyword.\n",
        "import keyword\n",
        "\n",
        "def is_keyword(word):\n",
        "  \"\"\"Checks if a word is a Python keyword.\"\"\"\n",
        "  return keyword.iskeyword(word)\n",
        "\n",
        "# Get input from the user\n",
        "word = input(\"Enter a word: \")\n",
        "\n",
        "# Check if the word is a keyword and print the result\n",
        "if is_keyword(word):\n",
        "  print(f\"'{word}' is a Python keyword.\")\n",
        "else:\n",
        "  print(f\"'{word}' is not a Python keyword.\")"
      ],
      "metadata": {
        "colab": {
          "base_uri": "https://localhost:8080/"
        },
        "id": "C6hcJs251-Li",
        "outputId": "633a4229-96ae-4659-e963-a8bafe621065"
      },
      "execution_count": 14,
      "outputs": [
        {
          "output_type": "stream",
          "name": "stdout",
          "text": [
            "Enter a word: animal\n",
            "'animal' is not a Python keyword.\n"
          ]
        }
      ]
    },
    {
      "cell_type": "code",
      "source": [
        "# Create a list and tuple in Python, and demonstrate how attempting to change an element works differently for each.\n",
        "# Creating a list\n",
        "my_list = [1, 2, 3]\n",
        "print(\"Original list:\", my_list)\n",
        "\n",
        "# Modifying an element in the list\n",
        "my_list[1] = 10\n",
        "print(\"Modified list:\", my_list)\n",
        "\n",
        "# Creating a tuple\n",
        "my_tuple = (4, 5, 6)\n",
        "print(\"Original tuple:\", my_tuple)\n",
        "\n",
        "# Attempting to modify an element in the tuple\n",
        "try:\n",
        "    my_tuple[1] = 20\n",
        "except TypeError as e:\n",
        "    print(\"Error:\", e)"
      ],
      "metadata": {
        "colab": {
          "base_uri": "https://localhost:8080/"
        },
        "id": "GO2wVAYS3ZaP",
        "outputId": "45597eac-0045-483b-846e-944381bf604e"
      },
      "execution_count": 15,
      "outputs": [
        {
          "output_type": "stream",
          "name": "stdout",
          "text": [
            "Original list: [1, 2, 3]\n",
            "Modified list: [1, 10, 3]\n",
            "Original tuple: (4, 5, 6)\n",
            "Error: 'tuple' object does not support item assignment\n"
          ]
        }
      ]
    },
    {
      "cell_type": "code",
      "source": [
        "# Write a function to demonstrate the behavior of mutable and immutable arguments.\n",
        "\n",
        "def modify_arguments(immutable_arg, mutable_arg):\n",
        "    print(\"Before modification:\")\n",
        "    print(\"Immutable:\", immutable_arg)\n",
        "    print(\"Mutable:\", mutable_arg)\n",
        "\n",
        "    immutable_arg += 1\n",
        "    mutable_arg.append(100)\n",
        "\n",
        "    print(\"Ater modification inside function:\")\n",
        "    print(\"Immutable:\", immutable_arg)\n",
        "    print(\"Mutable:\", mutable_arg)\n",
        "\n",
        "    num = 10\n",
        "    numbers = [1, 2, 3]\n",
        "\n",
        "    modify_arguments(num, numbers)\n",
        "\n",
        "    print(\"\\nAfter function call:\")\n",
        "    print(\"Original immutable:\", num)\n",
        "    print(\"Original mutable:\", numbers)\n"
      ],
      "metadata": {
        "id": "kn2gx_Vr43o7"
      },
      "execution_count": 25,
      "outputs": []
    },
    {
      "cell_type": "code",
      "source": [
        "# Write a program that performs basic arithematic operations on two user-input numbers.\n",
        "def perform_arithmetic(num1, num2, operation):\n",
        "    \"\"\"\n",
        "    Performs basic arithmetic operations on two numbers.\n",
        "\n",
        "    Args:\n",
        "        num1: The first number.\n",
        "        num2: The second number.\n",
        "        operation: The arithmetic operation to perform ('+', '-', '*', '/').\n",
        "\n",
        "    Returns:\n",
        "        The result of the operation, or None if the operation is invalid.\n",
        "    \"\"\"\n",
        "    if operation == '+':\n",
        "        return num1 + num2\n",
        "    elif operation == '-':\n",
        "        return num1 - num2\n",
        "    elif operation == '*':\n",
        "        return num1 * num2\n",
        "    elif operation == '/':\n",
        "        if num2 == 0:\n",
        "            print(\"Error: Cannot divide by zero.\")\n",
        "            return None\n",
        "        else:\n",
        "            return num1 / num2\n",
        "    else:\n",
        "        print(\"Invalid operation. Please use +, -, *, or /.\")\n",
        "        return None\n",
        "\n",
        "# Get input from the user\n",
        "try:\n",
        "    num1 = float(input(\"Enter the first number: \"))\n",
        "    num2 = float(input(\"Enter the second number: \"))\n",
        "    operation = input(\"Enter the operation (+, -, *, /): \")\n",
        "\n",
        "    result = perform_arithmetic(num1, num2, operation)\n",
        "\n",
        "    if result is not None:\n",
        "        print(f\"The result is: {result}\")\n",
        "\n",
        "except ValueError:\n",
        "    print(\"Invalid input. Please enter valid numbers.\")"
      ],
      "metadata": {
        "colab": {
          "base_uri": "https://localhost:8080/"
        },
        "collapsed": true,
        "id": "0fRCca-29IBL",
        "outputId": "a86d102b-d159-48c8-d046-09f684228849"
      },
      "execution_count": 26,
      "outputs": [
        {
          "output_type": "stream",
          "name": "stdout",
          "text": [
            "Enter the first number: 2\n",
            "Enter the second number: 4\n",
            "Enter the operation (+, -, *, /): *\n",
            "The result is: 8.0\n"
          ]
        }
      ]
    },
    {
      "cell_type": "code",
      "source": [
        "# Write a program to demonstrate the use of logical Operators.\n",
        "# Example: Logical Operators (AND, OR, NOT) with generic variables\n",
        "a, b, c = True, False, True\n",
        "\n",
        "# AND: Both conditions must be True\n",
        "if a and c:\n",
        "    print(\"Both a and c are True (AND condition).\")\n",
        "\n",
        "# OR: At least one condition must be True\n",
        "if b or c:\n",
        "    print(\"Either b or c is True (OR condition).\")\n",
        "\n",
        "# NOT: Reverses the condition\n",
        "if not b:\n",
        "    print(\"b is False (NOT condition).\")"
      ],
      "metadata": {
        "colab": {
          "base_uri": "https://localhost:8080/"
        },
        "collapsed": true,
        "id": "v7WuzW6h-Re7",
        "outputId": "6172fdf0-0966-4140-d975-b68e21bef16f"
      },
      "execution_count": 29,
      "outputs": [
        {
          "output_type": "stream",
          "name": "stdout",
          "text": [
            "Both a and c are True (AND condition).\n",
            "Either b or c is True (OR condition).\n",
            "b is False (NOT condition).\n"
          ]
        }
      ]
    },
    {
      "cell_type": "code",
      "source": [
        "# write a python program to convert user input from string to integer, float, and boolean types.\n",
        "\n",
        "def convert_string_to_types(input_string):\n",
        "    \"\"\"\n",
        "    Converts a string to integer, float, and boolean types if possible.\n",
        "\n",
        "    Args:\n",
        "      input_string: The string to convert.\n",
        "\n",
        "    Returns:\n",
        "      A dictionary containing the converted values or error messages.\n",
        "    \"\"\"\n",
        "    results = {}\n",
        "\n",
        "    # Convert to integer\n",
        "    try:\n",
        "        results['integer'] = int(input_string)\n",
        "    except ValueError:\n",
        "        results['integer'] = \"Cannot convert to integer\"\n",
        "\n",
        "    # Convert to float\n",
        "    try:\n",
        "        results['float'] = float(input_string)\n",
        "    except ValueError:\n",
        "        results['float'] = \"Cannot convert to float\"\n",
        "\n",
        "    # Convert to boolean\n",
        "    if input_string.lower() == 'true':\n",
        "        results['boolean'] = True\n",
        "    elif input_string.lower() == 'false':\n",
        "        results['boolean'] = False\n",
        "    else:\n",
        "      results['boolean'] = \"Cannot convert to boolean\"\n",
        "\n",
        "    return results\n",
        "\n",
        "# Get user input\n",
        "user_input = input(\"Enter a value: \")\n",
        "\n",
        "# Convert the input\n",
        "converted_values = convert_string_to_types(user_input)\n",
        "\n",
        "# Print the results\n",
        "for data_type, value in converted_values.items():\n",
        "    print(f\" {data_type}: {value}\")\n",
        "\n",
        "\n",
        "\n"
      ],
      "metadata": {
        "colab": {
          "base_uri": "https://localhost:8080/"
        },
        "collapsed": true,
        "id": "OjKvtIJm_q7a",
        "outputId": "b40f54b5-56b6-4a1a-f770-21c92efdb8be"
      },
      "execution_count": 33,
      "outputs": [
        {
          "output_type": "stream",
          "name": "stdout",
          "text": [
            "Enter a value: 42\n",
            " integer: 42\n",
            " float: 42.0\n",
            " boolean: Cannot convert to boolean\n"
          ]
        }
      ]
    },
    {
      "cell_type": "code",
      "source": [
        "# Write code to demonstrate type casting with list elements.\n",
        "\n",
        "# Initial list with mixed data types\n",
        "mixed_list = ['1', 2, 3.0, '4', 5]\n",
        "\n",
        "# Type casting each element to integer\n",
        "int_list = [int(x) for x in mixed_list]\n",
        "print(\"List with integer elements:\", int_list)\n",
        "\n",
        "# Type casting each element to float\n",
        "float_list = [float(x) for x in mixed_list]\n",
        "print(\"List with float elements:\", float_list)\n",
        "\n",
        "# Type casting each element to string\n",
        "str_list = [str(x) for x in mixed_list]\n",
        "print(\"List with string elements:\", str_list)"
      ],
      "metadata": {
        "colab": {
          "base_uri": "https://localhost:8080/"
        },
        "collapsed": true,
        "id": "u0_y-10IFMCt",
        "outputId": "1b13e107-c5b9-4602-94b7-7234e4230980"
      },
      "execution_count": 34,
      "outputs": [
        {
          "output_type": "stream",
          "name": "stdout",
          "text": [
            "List with integer elements: [1, 2, 3, 4, 5]\n",
            "List with float elements: [1.0, 2.0, 3.0, 4.0, 5.0]\n",
            "List with string elements: ['1', '2', '3.0', '4', '5']\n"
          ]
        }
      ]
    },
    {
      "cell_type": "code",
      "source": [
        "# Write a program that checks if a number is positive, negative, or zero.\n",
        "\n",
        "num = float(input(\"Enter a number: \"))\n",
        "if num > 0:\n",
        "   print(\"Positive number\")\n",
        "elif num == 0:\n",
        "   print(\"Zero\")\n",
        "else:\n",
        "   print(\"Negative number\")\n"
      ],
      "metadata": {
        "colab": {
          "base_uri": "https://localhost:8080/"
        },
        "collapsed": true,
        "id": "dAFbIRD_FqQ_",
        "outputId": "d96253da-49a4-4a6b-bf4b-15d734e9b4f3"
      },
      "execution_count": 37,
      "outputs": [
        {
          "output_type": "stream",
          "name": "stdout",
          "text": [
            "Enter a number: 46\n",
            "Positive number\n"
          ]
        }
      ]
    },
    {
      "cell_type": "code",
      "source": [
        "# Write a for loop to print numbers from 1 to 10.\n",
        "for i in range(1, 11):\n",
        "    print(i)\n"
      ],
      "metadata": {
        "colab": {
          "base_uri": "https://localhost:8080/"
        },
        "collapsed": true,
        "id": "BLpiL7prGat8",
        "outputId": "84c29390-f0b6-4625-c78c-d9658838990a"
      },
      "execution_count": 43,
      "outputs": [
        {
          "output_type": "stream",
          "name": "stdout",
          "text": [
            "1\n",
            "2\n",
            "3\n",
            "4\n",
            "5\n",
            "6\n",
            "7\n",
            "8\n",
            "9\n",
            "10\n"
          ]
        }
      ]
    },
    {
      "cell_type": "code",
      "source": [
        "# Write a python program to find the sum of all even numbers between 1 and 50.\n",
        "sum_of_evens = 0\n",
        "for number in range(2, 51, 2):\n",
        "    sum_of_evens += number\n",
        "print(sum_of_evens)"
      ],
      "metadata": {
        "colab": {
          "base_uri": "https://localhost:8080/"
        },
        "collapsed": true,
        "id": "Fa3Y7mzpI702",
        "outputId": "f15c0ad7-1c26-4668-db81-765f4212e55c"
      },
      "execution_count": 44,
      "outputs": [
        {
          "output_type": "stream",
          "name": "stdout",
          "text": [
            "650\n"
          ]
        }
      ]
    },
    {
      "cell_type": "code",
      "source": [
        "# Write a program to reverse a string using a while loop.\n",
        "def reverse_string(s):\n",
        "    reversed_s = \"\"\n",
        "    length = len(s) - 1\n",
        "    while length >= 0:\n",
        "        reversed_s += s[length]\n",
        "        length -= 1\n",
        "    return reversed_s\n",
        "\n",
        "input_string = \"Hello, World!\"\n",
        "reversed_string = reverse_string(input_string)\n",
        "print(reversed_string)"
      ],
      "metadata": {
        "colab": {
          "base_uri": "https://localhost:8080/"
        },
        "collapsed": true,
        "id": "aMrlvu0rJlus",
        "outputId": "b2d8435a-5321-483d-c07f-c366053766e6"
      },
      "execution_count": 45,
      "outputs": [
        {
          "output_type": "stream",
          "name": "stdout",
          "text": [
            "!dlroW ,olleH\n"
          ]
        }
      ]
    },
    {
      "cell_type": "code",
      "source": [
        "# Write a Python program to calculate the factorial of a number provided by the user using a while loop.\n",
        "number = int(input(\"Enter a non-negative integer: \"))\n",
        "factorial = 1\n",
        "\n",
        "if number < 0:\n",
        "    print(\"Factorial is not defined for negative numbers.\")\n",
        "elif number == 0:\n",
        "    print(\"The factorial of 0 is 1\")\n",
        "else:\n",
        "    while number > 0:\n",
        "        factorial *= number\n",
        "        number -= 1\n",
        "    print(\"The factorial is\", factorial)"
      ],
      "metadata": {
        "colab": {
          "base_uri": "https://localhost:8080/"
        },
        "collapsed": true,
        "id": "EkGrwfVBJ9-m",
        "outputId": "e784d488-7a88-47d4-971e-820b4d327115"
      },
      "execution_count": 47,
      "outputs": [
        {
          "output_type": "stream",
          "name": "stdout",
          "text": [
            "Enter a non-negative integer: 2\n",
            "The factorial is 2\n"
          ]
        }
      ]
    }
  ]
}